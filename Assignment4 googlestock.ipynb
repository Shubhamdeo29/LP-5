{
 "cells": [
  {
   "cell_type": "code",
   "execution_count": 32,
   "id": "8fc288ed",
   "metadata": {},
   "outputs": [],
   "source": [
    "import pandas as pd\n",
    "import matplotlib.pyplot as plt\n",
    "import numpy as np"
   ]
  },
  {
   "cell_type": "code",
   "execution_count": 33,
   "id": "23a46ab1",
   "metadata": {},
   "outputs": [
    {
     "name": "stdout",
     "output_type": "stream",
     "text": [
      "<class 'pandas.core.frame.DataFrame'>\n",
      "RangeIndex: 1384 entries, 0 to 1383\n",
      "Data columns (total 7 columns):\n",
      " #   Column     Non-Null Count  Dtype  \n",
      "---  ------     --------------  -----  \n",
      " 0   Date       1384 non-null   object \n",
      " 1   Open       1384 non-null   float64\n",
      " 2   High       1384 non-null   float64\n",
      " 3   Low        1384 non-null   float64\n",
      " 4   Close      1384 non-null   float64\n",
      " 5   Adj Close  1384 non-null   float64\n",
      " 6   Volume     1384 non-null   int64  \n",
      "dtypes: float64(5), int64(1), object(1)\n",
      "memory usage: 75.8+ KB\n"
     ]
    }
   ],
   "source": [
    "train_df = pd.read_csv('Google_Stock_Price_Train.csv')\n",
    "train_df.info()"
   ]
  },
  {
   "cell_type": "code",
   "execution_count": 34,
   "id": "25f5fba2",
   "metadata": {},
   "outputs": [
    {
     "name": "stdout",
     "output_type": "stream",
     "text": [
      "<class 'pandas.core.frame.DataFrame'>\n",
      "RangeIndex: 20 entries, 0 to 19\n",
      "Data columns (total 6 columns):\n",
      " #   Column  Non-Null Count  Dtype  \n",
      "---  ------  --------------  -----  \n",
      " 0   Date    20 non-null     object \n",
      " 1   Open    20 non-null     float64\n",
      " 2   High    20 non-null     float64\n",
      " 3   Low     20 non-null     float64\n",
      " 4   Close   20 non-null     float64\n",
      " 5   Volume  20 non-null     object \n",
      "dtypes: float64(4), object(2)\n",
      "memory usage: 1.1+ KB\n"
     ]
    }
   ],
   "source": [
    "test_df = pd.read_csv('Google_Stock_Price_Test.csv')\n",
    "test_df.info()"
   ]
  },
  {
   "cell_type": "markdown",
   "id": "0099e4a3",
   "metadata": {},
   "source": [
    "#### Choosing column 'open' for predicition"
   ]
  },
  {
   "cell_type": "code",
   "execution_count": 35,
   "id": "afd14545-73fe-4796-ae86-6302193b2ac9",
   "metadata": {},
   "outputs": [
    {
     "data": {
      "text/html": [
       "<div>\n",
       "<style scoped>\n",
       "    .dataframe tbody tr th:only-of-type {\n",
       "        vertical-align: middle;\n",
       "    }\n",
       "\n",
       "    .dataframe tbody tr th {\n",
       "        vertical-align: top;\n",
       "    }\n",
       "\n",
       "    .dataframe thead th {\n",
       "        text-align: right;\n",
       "    }\n",
       "</style>\n",
       "<table border=\"1\" class=\"dataframe\">\n",
       "  <thead>\n",
       "    <tr style=\"text-align: right;\">\n",
       "      <th></th>\n",
       "      <th>Date</th>\n",
       "      <th>Open</th>\n",
       "      <th>High</th>\n",
       "      <th>Low</th>\n",
       "      <th>Close</th>\n",
       "      <th>Volume</th>\n",
       "    </tr>\n",
       "  </thead>\n",
       "  <tbody>\n",
       "    <tr>\n",
       "      <th>0</th>\n",
       "      <td>1/3/2017</td>\n",
       "      <td>778.81</td>\n",
       "      <td>789.63</td>\n",
       "      <td>775.80</td>\n",
       "      <td>786.14</td>\n",
       "      <td>1,657,300</td>\n",
       "    </tr>\n",
       "    <tr>\n",
       "      <th>1</th>\n",
       "      <td>1/4/2017</td>\n",
       "      <td>788.36</td>\n",
       "      <td>791.34</td>\n",
       "      <td>783.16</td>\n",
       "      <td>786.90</td>\n",
       "      <td>1,073,000</td>\n",
       "    </tr>\n",
       "    <tr>\n",
       "      <th>2</th>\n",
       "      <td>1/5/2017</td>\n",
       "      <td>786.08</td>\n",
       "      <td>794.48</td>\n",
       "      <td>785.02</td>\n",
       "      <td>794.02</td>\n",
       "      <td>1,335,200</td>\n",
       "    </tr>\n",
       "    <tr>\n",
       "      <th>3</th>\n",
       "      <td>1/6/2017</td>\n",
       "      <td>795.26</td>\n",
       "      <td>807.90</td>\n",
       "      <td>792.20</td>\n",
       "      <td>806.15</td>\n",
       "      <td>1,640,200</td>\n",
       "    </tr>\n",
       "    <tr>\n",
       "      <th>4</th>\n",
       "      <td>1/9/2017</td>\n",
       "      <td>806.40</td>\n",
       "      <td>809.97</td>\n",
       "      <td>802.83</td>\n",
       "      <td>806.65</td>\n",
       "      <td>1,272,400</td>\n",
       "    </tr>\n",
       "    <tr>\n",
       "      <th>5</th>\n",
       "      <td>1/10/2017</td>\n",
       "      <td>807.86</td>\n",
       "      <td>809.13</td>\n",
       "      <td>803.51</td>\n",
       "      <td>804.79</td>\n",
       "      <td>1,176,800</td>\n",
       "    </tr>\n",
       "    <tr>\n",
       "      <th>6</th>\n",
       "      <td>1/11/2017</td>\n",
       "      <td>805.00</td>\n",
       "      <td>808.15</td>\n",
       "      <td>801.37</td>\n",
       "      <td>807.91</td>\n",
       "      <td>1,065,900</td>\n",
       "    </tr>\n",
       "    <tr>\n",
       "      <th>7</th>\n",
       "      <td>1/12/2017</td>\n",
       "      <td>807.14</td>\n",
       "      <td>807.39</td>\n",
       "      <td>799.17</td>\n",
       "      <td>806.36</td>\n",
       "      <td>1,353,100</td>\n",
       "    </tr>\n",
       "    <tr>\n",
       "      <th>8</th>\n",
       "      <td>1/13/2017</td>\n",
       "      <td>807.48</td>\n",
       "      <td>811.22</td>\n",
       "      <td>806.69</td>\n",
       "      <td>807.88</td>\n",
       "      <td>1,099,200</td>\n",
       "    </tr>\n",
       "    <tr>\n",
       "      <th>9</th>\n",
       "      <td>1/17/2017</td>\n",
       "      <td>807.08</td>\n",
       "      <td>807.14</td>\n",
       "      <td>800.37</td>\n",
       "      <td>804.61</td>\n",
       "      <td>1,362,100</td>\n",
       "    </tr>\n",
       "    <tr>\n",
       "      <th>10</th>\n",
       "      <td>1/18/2017</td>\n",
       "      <td>805.81</td>\n",
       "      <td>806.21</td>\n",
       "      <td>800.99</td>\n",
       "      <td>806.07</td>\n",
       "      <td>1,294,400</td>\n",
       "    </tr>\n",
       "    <tr>\n",
       "      <th>11</th>\n",
       "      <td>1/19/2017</td>\n",
       "      <td>805.12</td>\n",
       "      <td>809.48</td>\n",
       "      <td>801.80</td>\n",
       "      <td>802.17</td>\n",
       "      <td>919,300</td>\n",
       "    </tr>\n",
       "    <tr>\n",
       "      <th>12</th>\n",
       "      <td>1/20/2017</td>\n",
       "      <td>806.91</td>\n",
       "      <td>806.91</td>\n",
       "      <td>801.69</td>\n",
       "      <td>805.02</td>\n",
       "      <td>1,670,000</td>\n",
       "    </tr>\n",
       "    <tr>\n",
       "      <th>13</th>\n",
       "      <td>1/23/2017</td>\n",
       "      <td>807.25</td>\n",
       "      <td>820.87</td>\n",
       "      <td>803.74</td>\n",
       "      <td>819.31</td>\n",
       "      <td>1,963,600</td>\n",
       "    </tr>\n",
       "    <tr>\n",
       "      <th>14</th>\n",
       "      <td>1/24/2017</td>\n",
       "      <td>822.30</td>\n",
       "      <td>825.90</td>\n",
       "      <td>817.82</td>\n",
       "      <td>823.87</td>\n",
       "      <td>1,474,000</td>\n",
       "    </tr>\n",
       "    <tr>\n",
       "      <th>15</th>\n",
       "      <td>1/25/2017</td>\n",
       "      <td>829.62</td>\n",
       "      <td>835.77</td>\n",
       "      <td>825.06</td>\n",
       "      <td>835.67</td>\n",
       "      <td>1,494,500</td>\n",
       "    </tr>\n",
       "    <tr>\n",
       "      <th>16</th>\n",
       "      <td>1/26/2017</td>\n",
       "      <td>837.81</td>\n",
       "      <td>838.00</td>\n",
       "      <td>827.01</td>\n",
       "      <td>832.15</td>\n",
       "      <td>2,973,900</td>\n",
       "    </tr>\n",
       "    <tr>\n",
       "      <th>17</th>\n",
       "      <td>1/27/2017</td>\n",
       "      <td>834.71</td>\n",
       "      <td>841.95</td>\n",
       "      <td>820.44</td>\n",
       "      <td>823.31</td>\n",
       "      <td>2,965,800</td>\n",
       "    </tr>\n",
       "    <tr>\n",
       "      <th>18</th>\n",
       "      <td>1/30/2017</td>\n",
       "      <td>814.66</td>\n",
       "      <td>815.84</td>\n",
       "      <td>799.80</td>\n",
       "      <td>802.32</td>\n",
       "      <td>3,246,600</td>\n",
       "    </tr>\n",
       "    <tr>\n",
       "      <th>19</th>\n",
       "      <td>1/31/2017</td>\n",
       "      <td>796.86</td>\n",
       "      <td>801.25</td>\n",
       "      <td>790.52</td>\n",
       "      <td>796.79</td>\n",
       "      <td>2,160,600</td>\n",
       "    </tr>\n",
       "  </tbody>\n",
       "</table>\n",
       "</div>"
      ],
      "text/plain": [
       "         Date    Open    High     Low   Close     Volume\n",
       "0    1/3/2017  778.81  789.63  775.80  786.14  1,657,300\n",
       "1    1/4/2017  788.36  791.34  783.16  786.90  1,073,000\n",
       "2    1/5/2017  786.08  794.48  785.02  794.02  1,335,200\n",
       "3    1/6/2017  795.26  807.90  792.20  806.15  1,640,200\n",
       "4    1/9/2017  806.40  809.97  802.83  806.65  1,272,400\n",
       "5   1/10/2017  807.86  809.13  803.51  804.79  1,176,800\n",
       "6   1/11/2017  805.00  808.15  801.37  807.91  1,065,900\n",
       "7   1/12/2017  807.14  807.39  799.17  806.36  1,353,100\n",
       "8   1/13/2017  807.48  811.22  806.69  807.88  1,099,200\n",
       "9   1/17/2017  807.08  807.14  800.37  804.61  1,362,100\n",
       "10  1/18/2017  805.81  806.21  800.99  806.07  1,294,400\n",
       "11  1/19/2017  805.12  809.48  801.80  802.17    919,300\n",
       "12  1/20/2017  806.91  806.91  801.69  805.02  1,670,000\n",
       "13  1/23/2017  807.25  820.87  803.74  819.31  1,963,600\n",
       "14  1/24/2017  822.30  825.90  817.82  823.87  1,474,000\n",
       "15  1/25/2017  829.62  835.77  825.06  835.67  1,494,500\n",
       "16  1/26/2017  837.81  838.00  827.01  832.15  2,973,900\n",
       "17  1/27/2017  834.71  841.95  820.44  823.31  2,965,800\n",
       "18  1/30/2017  814.66  815.84  799.80  802.32  3,246,600\n",
       "19  1/31/2017  796.86  801.25  790.52  796.79  2,160,600"
      ]
     },
     "execution_count": 35,
     "metadata": {},
     "output_type": "execute_result"
    }
   ],
   "source": [
    "test_df"
   ]
  },
  {
   "cell_type": "code",
   "execution_count": 36,
   "id": "919e13c0",
   "metadata": {},
   "outputs": [
    {
     "data": {
      "text/plain": [
       "(1384, 1)"
      ]
     },
     "execution_count": 36,
     "metadata": {},
     "output_type": "execute_result"
    }
   ],
   "source": [
    "train = train_df.loc[:,[\"Open\"]].values\n",
    "train.shape"
   ]
  },
  {
   "cell_type": "code",
   "execution_count": 37,
   "id": "5e8f02d5-d601-4771-9e5c-dd731e2cbbe3",
   "metadata": {},
   "outputs": [
    {
     "data": {
      "text/plain": [
       "(1384,)"
      ]
     },
     "execution_count": 37,
     "metadata": {},
     "output_type": "execute_result"
    }
   ],
   "source": [
    "train1= train_df['Open']\n",
    "train1.shape"
   ]
  },
  {
   "cell_type": "code",
   "execution_count": 38,
   "id": "d5039754-f76b-41c8-8652-f54567bf6ea7",
   "metadata": {},
   "outputs": [
    {
     "data": {
      "text/plain": [
       "array([[ 357.385559],\n",
       "       [ 360.122742],\n",
       "       [ 362.313507],\n",
       "       ...,\n",
       "       [1121.339966],\n",
       "       [1102.089966],\n",
       "       [1120.      ]])"
      ]
     },
     "execution_count": 38,
     "metadata": {},
     "output_type": "execute_result"
    }
   ],
   "source": [
    "train"
   ]
  },
  {
   "cell_type": "code",
   "execution_count": 39,
   "id": "30ab0e99-0ab7-453e-97f6-6df7c43a8e3a",
   "metadata": {},
   "outputs": [
    {
     "data": {
      "text/html": [
       "<div>\n",
       "<style scoped>\n",
       "    .dataframe tbody tr th:only-of-type {\n",
       "        vertical-align: middle;\n",
       "    }\n",
       "\n",
       "    .dataframe tbody tr th {\n",
       "        vertical-align: top;\n",
       "    }\n",
       "\n",
       "    .dataframe thead th {\n",
       "        text-align: right;\n",
       "    }\n",
       "</style>\n",
       "<table border=\"1\" class=\"dataframe\">\n",
       "  <thead>\n",
       "    <tr style=\"text-align: right;\">\n",
       "      <th></th>\n",
       "      <th>Date</th>\n",
       "      <th>Open</th>\n",
       "      <th>High</th>\n",
       "      <th>Low</th>\n",
       "      <th>Close</th>\n",
       "      <th>Adj Close</th>\n",
       "      <th>Volume</th>\n",
       "    </tr>\n",
       "  </thead>\n",
       "  <tbody>\n",
       "    <tr>\n",
       "      <th>0</th>\n",
       "      <td>2013-01-02</td>\n",
       "      <td>357.385559</td>\n",
       "      <td>361.151062</td>\n",
       "      <td>355.959839</td>\n",
       "      <td>359.288177</td>\n",
       "      <td>359.288177</td>\n",
       "      <td>5115500</td>\n",
       "    </tr>\n",
       "    <tr>\n",
       "      <th>1</th>\n",
       "      <td>2013-01-03</td>\n",
       "      <td>360.122742</td>\n",
       "      <td>363.600128</td>\n",
       "      <td>358.031342</td>\n",
       "      <td>359.496826</td>\n",
       "      <td>359.496826</td>\n",
       "      <td>4666500</td>\n",
       "    </tr>\n",
       "    <tr>\n",
       "      <th>2</th>\n",
       "      <td>2013-01-04</td>\n",
       "      <td>362.313507</td>\n",
       "      <td>368.339294</td>\n",
       "      <td>361.488861</td>\n",
       "      <td>366.600616</td>\n",
       "      <td>366.600616</td>\n",
       "      <td>5562800</td>\n",
       "    </tr>\n",
       "    <tr>\n",
       "      <th>3</th>\n",
       "      <td>2013-01-07</td>\n",
       "      <td>365.348755</td>\n",
       "      <td>367.301056</td>\n",
       "      <td>362.929504</td>\n",
       "      <td>365.001007</td>\n",
       "      <td>365.001007</td>\n",
       "      <td>3332900</td>\n",
       "    </tr>\n",
       "    <tr>\n",
       "      <th>4</th>\n",
       "      <td>2013-01-08</td>\n",
       "      <td>365.393463</td>\n",
       "      <td>365.771027</td>\n",
       "      <td>359.874359</td>\n",
       "      <td>364.280701</td>\n",
       "      <td>364.280701</td>\n",
       "      <td>3373900</td>\n",
       "    </tr>\n",
       "    <tr>\n",
       "      <th>...</th>\n",
       "      <td>...</td>\n",
       "      <td>...</td>\n",
       "      <td>...</td>\n",
       "      <td>...</td>\n",
       "      <td>...</td>\n",
       "      <td>...</td>\n",
       "      <td>...</td>\n",
       "    </tr>\n",
       "    <tr>\n",
       "      <th>1379</th>\n",
       "      <td>2018-06-25</td>\n",
       "      <td>1143.599976</td>\n",
       "      <td>1143.910034</td>\n",
       "      <td>1112.780029</td>\n",
       "      <td>1124.810059</td>\n",
       "      <td>1124.810059</td>\n",
       "      <td>2157300</td>\n",
       "    </tr>\n",
       "    <tr>\n",
       "      <th>1380</th>\n",
       "      <td>2018-06-26</td>\n",
       "      <td>1128.000000</td>\n",
       "      <td>1133.209961</td>\n",
       "      <td>1116.659058</td>\n",
       "      <td>1118.459961</td>\n",
       "      <td>1118.459961</td>\n",
       "      <td>1563200</td>\n",
       "    </tr>\n",
       "    <tr>\n",
       "      <th>1381</th>\n",
       "      <td>2018-06-27</td>\n",
       "      <td>1121.339966</td>\n",
       "      <td>1131.836060</td>\n",
       "      <td>1103.619995</td>\n",
       "      <td>1103.979980</td>\n",
       "      <td>1103.979980</td>\n",
       "      <td>1293900</td>\n",
       "    </tr>\n",
       "    <tr>\n",
       "      <th>1382</th>\n",
       "      <td>2018-06-28</td>\n",
       "      <td>1102.089966</td>\n",
       "      <td>1122.310059</td>\n",
       "      <td>1096.010010</td>\n",
       "      <td>1114.219971</td>\n",
       "      <td>1114.219971</td>\n",
       "      <td>1072400</td>\n",
       "    </tr>\n",
       "    <tr>\n",
       "      <th>1383</th>\n",
       "      <td>2018-06-29</td>\n",
       "      <td>1120.000000</td>\n",
       "      <td>1128.227051</td>\n",
       "      <td>1115.000000</td>\n",
       "      <td>1115.650024</td>\n",
       "      <td>1115.650024</td>\n",
       "      <td>1315100</td>\n",
       "    </tr>\n",
       "  </tbody>\n",
       "</table>\n",
       "<p>1384 rows × 7 columns</p>\n",
       "</div>"
      ],
      "text/plain": [
       "            Date         Open         High          Low        Close  \\\n",
       "0     2013-01-02   357.385559   361.151062   355.959839   359.288177   \n",
       "1     2013-01-03   360.122742   363.600128   358.031342   359.496826   \n",
       "2     2013-01-04   362.313507   368.339294   361.488861   366.600616   \n",
       "3     2013-01-07   365.348755   367.301056   362.929504   365.001007   \n",
       "4     2013-01-08   365.393463   365.771027   359.874359   364.280701   \n",
       "...          ...          ...          ...          ...          ...   \n",
       "1379  2018-06-25  1143.599976  1143.910034  1112.780029  1124.810059   \n",
       "1380  2018-06-26  1128.000000  1133.209961  1116.659058  1118.459961   \n",
       "1381  2018-06-27  1121.339966  1131.836060  1103.619995  1103.979980   \n",
       "1382  2018-06-28  1102.089966  1122.310059  1096.010010  1114.219971   \n",
       "1383  2018-06-29  1120.000000  1128.227051  1115.000000  1115.650024   \n",
       "\n",
       "        Adj Close   Volume  \n",
       "0      359.288177  5115500  \n",
       "1      359.496826  4666500  \n",
       "2      366.600616  5562800  \n",
       "3      365.001007  3332900  \n",
       "4      364.280701  3373900  \n",
       "...           ...      ...  \n",
       "1379  1124.810059  2157300  \n",
       "1380  1118.459961  1563200  \n",
       "1381  1103.979980  1293900  \n",
       "1382  1114.219971  1072400  \n",
       "1383  1115.650024  1315100  \n",
       "\n",
       "[1384 rows x 7 columns]"
      ]
     },
     "execution_count": 39,
     "metadata": {},
     "output_type": "execute_result"
    }
   ],
   "source": [
    "train_df"
   ]
  },
  {
   "cell_type": "code",
   "execution_count": 40,
   "id": "aa770ef9",
   "metadata": {},
   "outputs": [],
   "source": [
    "from sklearn.preprocessing import MinMaxScaler\n",
    "scaler = MinMaxScaler()"
   ]
  },
  {
   "cell_type": "code",
   "execution_count": 41,
   "id": "9e86778f",
   "metadata": {},
   "outputs": [],
   "source": [
    "train_scaled = scaler.fit_transform(train)"
   ]
  },
  {
   "cell_type": "code",
   "execution_count": 42,
   "id": "54efbb37-e042-44fa-bd45-8f5490e56ed7",
   "metadata": {},
   "outputs": [
    {
     "data": {
      "text/plain": [
       "array([[0.00886318],\n",
       "       [0.01217185],\n",
       "       [0.01482002],\n",
       "       ...,\n",
       "       [0.93232012],\n",
       "       [0.909051  ],\n",
       "       [0.93070039]])"
      ]
     },
     "execution_count": 42,
     "metadata": {},
     "output_type": "execute_result"
    }
   ],
   "source": [
    "train_scaled"
   ]
  },
  {
   "cell_type": "code",
   "execution_count": 43,
   "id": "815c90eb",
   "metadata": {},
   "outputs": [
    {
     "data": {
      "image/png": "[encoded data removed]",
      "text/plain": [
       "<Figure size 640x480 with 1 Axes>"
      ]
     },
     "metadata": {},
     "output_type": "display_data"
    }
   ],
   "source": [
    "plt.plot(train_scaled)\n",
    "plt.ylabel(\"Standardized Values\")\n",
    "plt.xlabel(\"Time->\")\n",
    "plt.show()"
   ]
  },
  {
   "cell_type": "code",
   "execution_count": 44,
   "id": "c2e7aaea",
   "metadata": {},
   "outputs": [],
   "source": [
    "x_train = []\n",
    "y_train = []\n",
    "time = 60\n",
    "for i in range(60,train_scaled.shape[0]):\n",
    "    x_train.append(train_scaled[i-60:i,0])\n",
    "    y_train.append(train_scaled[i,0])\n",
    "x_train = np.array(x_train)\n",
    "y_train = np.array(y_train)"
   ]
  },
  {
   "cell_type": "code",
   "execution_count": 45,
   "id": "d3d50977",
   "metadata": {},
   "outputs": [
    {
     "data": {
      "text/plain": [
       "((1324, 60), (1324,))"
      ]
     },
     "execution_count": 45,
     "metadata": {},
     "output_type": "execute_result"
    }
   ],
   "source": [
    "x_train.shape,y_train.shape"
   ]
  },
  {
   "cell_type": "code",
   "execution_count": 46,
   "id": "49806d76",
   "metadata": {},
   "outputs": [
    {
     "data": {
      "text/plain": [
       "(1324, 60, 1)"
      ]
     },
     "execution_count": 46,
     "metadata": {},
     "output_type": "execute_result"
    }
   ],
   "source": [
    "x_train = np.reshape(x_train,newshape=(x_train.shape[0],x_train.shape[1],1))\n",
    "x_train.shape"
   ]
  },
  {
   "cell_type": "markdown",
   "id": "2db3dac7",
   "metadata": {},
   "source": [
    "### Build model"
   ]
  },
  {
   "cell_type": "code",
   "execution_count": 47,
   "id": "302ed403",
   "metadata": {},
   "outputs": [],
   "source": [
    "from keras.models import Sequential\n",
    "from keras.layers import Dense, SimpleRNN,Dropout"
   ]
  },
  {
   "cell_type": "code",
   "execution_count": 48,
   "id": "860d847d",
   "metadata": {},
   "outputs": [
    {
     "name": "stdout",
     "output_type": "stream",
     "text": [
      "Model: \"sequential_1\"\n",
      "_________________________________________________________________\n",
      " Layer (type)                Output Shape              Param #   \n",
      "=================================================================\n",
      " simple_rnn_4 (SimpleRNN)    (None, 60, 50)            2600      \n",
      "                                                                 \n",
      " dropout_4 (Dropout)         (None, 60, 50)            0         \n",
      "                                                                 \n",
      " simple_rnn_5 (SimpleRNN)    (None, 60, 50)            5050      \n",
      "                                                                 \n",
      " dropout_5 (Dropout)         (None, 60, 50)            0         \n",
      "                                                                 \n",
      " simple_rnn_6 (SimpleRNN)    (None, 60, 50)            5050      \n",
      "                                                                 \n",
      " dropout_6 (Dropout)         (None, 60, 50)            0         \n",
      "                                                                 \n",
      " simple_rnn_7 (SimpleRNN)    (None, 50)                5050      \n",
      "                                                                 \n",
      " dropout_7 (Dropout)         (None, 50)                0         \n",
      "                                                                 \n",
      " dense_1 (Dense)             (None, 1)                 51        \n",
      "                                                                 \n",
      "=================================================================\n",
      "Total params: 17801 (69.54 KB)\n",
      "Trainable params: 17801 (69.54 KB)\n",
      "Non-trainable params: 0 (0.00 Byte)\n",
      "_________________________________________________________________\n"
     ]
    }
   ],
   "source": [
    "model = Sequential()\n",
    "\n",
    "model.add(SimpleRNN(units=50,activation = \"tanh\", return_sequences = True, input_shape = (x_train.shape[1], 1)))\n",
    "model.add(Dropout(0.2))\n",
    "\n",
    "model.add(SimpleRNN(units=50,activation = \"tanh\", return_sequences = True))\n",
    "model.add(Dropout(0.2))\n",
    "\n",
    "model.add(SimpleRNN(units=50,activation = \"tanh\", return_sequences = True))\n",
    "model.add(Dropout(0.2))\n",
    "\n",
    "model.add(SimpleRNN(units=50))\n",
    "model.add(Dropout(0.2))\n",
    "\n",
    "model.add(Dense(units=1))\n",
    "\n",
    "model.compile(optimizer='adam',loss='mse')\n",
    "model.summary()"
   ]
  },
  {
   "cell_type": "code",
   "execution_count": 49,
   "id": "d807b7de",
   "metadata": {},
   "outputs": [
    {
     "name": "stdout",
     "output_type": "stream",
     "text": [
      "Epoch 1/100\n",
      "42/42 [==============================] - 10s 92ms/step - loss: 0.2917 - val_loss: 0.0529\n",
      "Epoch 2/100\n",
      "42/42 [==============================] - 3s 72ms/step - loss: 0.2146 - val_loss: 0.0139\n",
      "Epoch 3/100\n",
      "42/42 [==============================] - 3s 72ms/step - loss: 0.1537 - val_loss: 0.0071\n",
      "Epoch 4/100\n",
      "42/42 [==============================] - 3s 72ms/step - loss: 0.1218 - val_loss: 0.0533\n",
      "Epoch 5/100\n",
      "42/42 [==============================] - 3s 73ms/step - loss: 0.0811 - val_loss: 0.0253\n",
      "Epoch 6/100\n",
      "42/42 [==============================] - 3s 73ms/step - loss: 0.0667 - val_loss: 0.0154\n",
      "Epoch 7/100\n",
      "42/42 [==============================] - 3s 73ms/step - loss: 0.0548 - val_loss: 0.0079\n",
      "Epoch 8/100\n",
      "42/42 [==============================] - 3s 73ms/step - loss: 0.0448 - val_loss: 0.0140\n",
      "Epoch 9/100\n",
      "42/42 [==============================] - 3s 73ms/step - loss: 0.0346 - val_loss: 0.0261\n",
      "Epoch 10/100\n",
      "42/42 [==============================] - 3s 73ms/step - loss: 0.0276 - val_loss: 0.0045\n",
      "Epoch 11/100\n",
      "42/42 [==============================] - 3s 74ms/step - loss: 0.0254 - val_loss: 0.0289\n",
      "Epoch 12/100\n",
      "42/42 [==============================] - 3s 73ms/step - loss: 0.0219 - val_loss: 0.0082\n",
      "Epoch 13/100\n",
      "42/42 [==============================] - 3s 72ms/step - loss: 0.0199 - val_loss: 0.0076\n",
      "Epoch 14/100\n",
      "42/42 [==============================] - 3s 72ms/step - loss: 0.0168 - val_loss: 0.0084\n",
      "Epoch 15/100\n",
      "42/42 [==============================] - 3s 73ms/step - loss: 0.0130 - val_loss: 0.0112\n",
      "Epoch 16/100\n",
      "42/42 [==============================] - 3s 73ms/step - loss: 0.0132 - val_loss: 0.0062\n",
      "Epoch 17/100\n",
      "42/42 [==============================] - 3s 74ms/step - loss: 0.0117 - val_loss: 0.0281\n",
      "Epoch 18/100\n",
      "42/42 [==============================] - 3s 74ms/step - loss: 0.0111 - val_loss: 0.0064\n",
      "Epoch 19/100\n",
      "42/42 [==============================] - 3s 73ms/step - loss: 0.0094 - val_loss: 0.0085\n",
      "Epoch 20/100\n",
      "42/42 [==============================] - 3s 72ms/step - loss: 0.0094 - val_loss: 0.0014\n",
      "Epoch 21/100\n",
      "42/42 [==============================] - 3s 71ms/step - loss: 0.0083 - val_loss: 0.0054\n",
      "Epoch 22/100\n",
      "42/42 [==============================] - 3s 73ms/step - loss: 0.0078 - val_loss: 0.0032\n",
      "Epoch 23/100\n",
      "42/42 [==============================] - 3s 74ms/step - loss: 0.0069 - val_loss: 0.0050\n",
      "Epoch 24/100\n",
      "42/42 [==============================] - 3s 73ms/step - loss: 0.0068 - val_loss: 0.0029\n",
      "Epoch 25/100\n",
      "42/42 [==============================] - 3s 73ms/step - loss: 0.0070 - val_loss: 0.0030\n",
      "Epoch 26/100\n",
      "42/42 [==============================] - 3s 74ms/step - loss: 0.0063 - val_loss: 0.0037\n",
      "Epoch 27/100\n",
      "42/42 [==============================] - 3s 72ms/step - loss: 0.0051 - val_loss: 0.0042\n",
      "Epoch 28/100\n",
      "42/42 [==============================] - 3s 73ms/step - loss: 0.0061 - val_loss: 0.0013\n",
      "Epoch 29/100\n",
      "42/42 [==============================] - 3s 71ms/step - loss: 0.0054 - val_loss: 0.0018\n",
      "Epoch 30/100\n",
      "42/42 [==============================] - 3s 72ms/step - loss: 0.0049 - val_loss: 0.0010\n",
      "Epoch 31/100\n",
      "42/42 [==============================] - 3s 72ms/step - loss: 0.0048 - val_loss: 0.0024\n",
      "Epoch 32/100\n",
      "42/42 [==============================] - 3s 72ms/step - loss: 0.0046 - val_loss: 0.0021\n",
      "Epoch 33/100\n",
      "42/42 [==============================] - 3s 72ms/step - loss: 0.0048 - val_loss: 9.6359e-04\n",
      "Epoch 34/100\n",
      "42/42 [==============================] - 3s 72ms/step - loss: 0.0044 - val_loss: 0.0011\n",
      "Epoch 35/100\n",
      "42/42 [==============================] - 3s 73ms/step - loss: 0.0041 - val_loss: 0.0017\n",
      "Epoch 36/100\n",
      "42/42 [==============================] - 3s 72ms/step - loss: 0.0039 - val_loss: 0.0012\n",
      "Epoch 37/100\n",
      "42/42 [==============================] - 3s 72ms/step - loss: 0.0037 - val_loss: 0.0014\n",
      "Epoch 38/100\n",
      "42/42 [==============================] - 3s 73ms/step - loss: 0.0035 - val_loss: 0.0059\n",
      "Epoch 39/100\n",
      "42/42 [==============================] - 3s 72ms/step - loss: 0.0039 - val_loss: 0.0025\n",
      "Epoch 40/100\n",
      "42/42 [==============================] - 3s 72ms/step - loss: 0.0031 - val_loss: 8.7168e-04\n",
      "Epoch 41/100\n",
      "42/42 [==============================] - 3s 74ms/step - loss: 0.0036 - val_loss: 0.0012\n",
      "Epoch 42/100\n",
      "42/42 [==============================] - 3s 72ms/step - loss: 0.0030 - val_loss: 0.0010\n",
      "Epoch 43/100\n",
      "42/42 [==============================] - 3s 71ms/step - loss: 0.0035 - val_loss: 0.0010\n",
      "Epoch 44/100\n",
      "42/42 [==============================] - 3s 72ms/step - loss: 0.0029 - val_loss: 0.0093\n",
      "Epoch 45/100\n",
      "42/42 [==============================] - 3s 72ms/step - loss: 0.0034 - val_loss: 0.0012\n",
      "Epoch 46/100\n",
      "42/42 [==============================] - 3s 72ms/step - loss: 0.0031 - val_loss: 8.5907e-04\n",
      "Epoch 47/100\n",
      "42/42 [==============================] - 3s 73ms/step - loss: 0.0027 - val_loss: 0.0011\n",
      "Epoch 48/100\n",
      "42/42 [==============================] - 3s 72ms/step - loss: 0.0031 - val_loss: 9.1868e-04\n",
      "Epoch 49/100\n",
      "42/42 [==============================] - 3s 72ms/step - loss: 0.0028 - val_loss: 0.0025\n",
      "Epoch 50/100\n",
      "42/42 [==============================] - 3s 72ms/step - loss: 0.0024 - val_loss: 0.0013\n",
      "Epoch 51/100\n",
      "42/42 [==============================] - 3s 72ms/step - loss: 0.0025 - val_loss: 7.9289e-04\n",
      "Epoch 52/100\n",
      "42/42 [==============================] - 3s 70ms/step - loss: 0.0025 - val_loss: 0.0019\n",
      "Epoch 53/100\n",
      "42/42 [==============================] - 3s 70ms/step - loss: 0.0026 - val_loss: 9.7913e-04\n",
      "Epoch 54/100\n",
      "42/42 [==============================] - 3s 72ms/step - loss: 0.0022 - val_loss: 7.7510e-04\n",
      "Epoch 55/100\n",
      "42/42 [==============================] - 3s 72ms/step - loss: 0.0020 - val_loss: 9.3103e-04\n",
      "Epoch 56/100\n",
      "42/42 [==============================] - 3s 73ms/step - loss: 0.0022 - val_loss: 7.3250e-04\n",
      "Epoch 57/100\n",
      "42/42 [==============================] - 3s 73ms/step - loss: 0.0021 - val_loss: 8.4034e-04\n",
      "Epoch 58/100\n",
      "42/42 [==============================] - 3s 73ms/step - loss: 0.0020 - val_loss: 8.2540e-04\n",
      "Epoch 59/100\n",
      "42/42 [==============================] - 3s 72ms/step - loss: 0.0019 - val_loss: 0.0023\n",
      "Epoch 60/100\n",
      "42/42 [==============================] - 3s 72ms/step - loss: 0.0023 - val_loss: 0.0012\n",
      "Epoch 61/100\n",
      "42/42 [==============================] - 3s 72ms/step - loss: 0.0022 - val_loss: 0.0012\n",
      "Epoch 62/100\n",
      "42/42 [==============================] - 3s 73ms/step - loss: 0.0019 - val_loss: 8.6534e-04\n",
      "Epoch 63/100\n",
      "42/42 [==============================] - 3s 72ms/step - loss: 0.0020 - val_loss: 9.1793e-04\n",
      "Epoch 64/100\n",
      "42/42 [==============================] - 3s 72ms/step - loss: 0.0019 - val_loss: 0.0010\n",
      "Epoch 65/100\n",
      "42/42 [==============================] - 3s 72ms/step - loss: 0.0020 - val_loss: 7.9369e-04\n",
      "Epoch 66/100\n",
      "42/42 [==============================] - 3s 72ms/step - loss: 0.0017 - val_loss: 7.4204e-04\n",
      "Epoch 67/100\n",
      "42/42 [==============================] - 3s 72ms/step - loss: 0.0021 - val_loss: 0.0030\n",
      "Epoch 68/100\n",
      "42/42 [==============================] - 3s 73ms/step - loss: 0.0018 - val_loss: 9.3319e-04\n",
      "Epoch 69/100\n",
      "42/42 [==============================] - 3s 72ms/step - loss: 0.0018 - val_loss: 0.0013\n",
      "Epoch 70/100\n",
      "42/42 [==============================] - 3s 73ms/step - loss: 0.0016 - val_loss: 7.6512e-04\n",
      "Epoch 71/100\n",
      "42/42 [==============================] - 3s 72ms/step - loss: 0.0019 - val_loss: 0.0031\n",
      "Epoch 72/100\n",
      "42/42 [==============================] - 3s 72ms/step - loss: 0.0019 - val_loss: 7.1629e-04\n",
      "Epoch 73/100\n",
      "42/42 [==============================] - 3s 72ms/step - loss: 0.0022 - val_loss: 9.1564e-04\n",
      "Epoch 74/100\n",
      "42/42 [==============================] - 3s 72ms/step - loss: 0.0016 - val_loss: 7.3992e-04\n",
      "Epoch 75/100\n",
      "42/42 [==============================] - 3s 71ms/step - loss: 0.0017 - val_loss: 0.0011\n",
      "Epoch 76/100\n",
      "42/42 [==============================] - 3s 72ms/step - loss: 0.0018 - val_loss: 0.0011\n",
      "Epoch 77/100\n",
      "42/42 [==============================] - 3s 72ms/step - loss: 0.0017 - val_loss: 8.9455e-04\n",
      "Epoch 78/100\n",
      "42/42 [==============================] - 3s 72ms/step - loss: 0.0020 - val_loss: 6.6970e-04\n",
      "Epoch 79/100\n",
      "42/42 [==============================] - 3s 72ms/step - loss: 0.0016 - val_loss: 8.2793e-04\n",
      "Epoch 80/100\n",
      "42/42 [==============================] - 3s 71ms/step - loss: 0.0016 - val_loss: 9.7961e-04\n",
      "Epoch 81/100\n",
      "42/42 [==============================] - 3s 72ms/step - loss: 0.0016 - val_loss: 7.6601e-04\n",
      "Epoch 82/100\n",
      "42/42 [==============================] - 3s 73ms/step - loss: 0.0015 - val_loss: 7.4196e-04\n",
      "Epoch 83/100\n",
      "42/42 [==============================] - 3s 72ms/step - loss: 0.0013 - val_loss: 0.0010\n",
      "Epoch 84/100\n",
      "42/42 [==============================] - 3s 72ms/step - loss: 0.0016 - val_loss: 0.0019\n",
      "Epoch 85/100\n",
      "42/42 [==============================] - 3s 72ms/step - loss: 0.0015 - val_loss: 6.9969e-04\n",
      "Epoch 86/100\n",
      "42/42 [==============================] - 3s 72ms/step - loss: 0.0016 - val_loss: 8.7841e-04\n",
      "Epoch 87/100\n",
      "42/42 [==============================] - 3s 73ms/step - loss: 0.0017 - val_loss: 0.0029\n",
      "Epoch 88/100\n",
      "42/42 [==============================] - 3s 72ms/step - loss: 0.0015 - val_loss: 7.1152e-04\n",
      "Epoch 89/100\n",
      "42/42 [==============================] - 3s 73ms/step - loss: 0.0013 - val_loss: 9.5997e-04\n",
      "Epoch 90/100\n",
      "42/42 [==============================] - 3s 72ms/step - loss: 0.0015 - val_loss: 9.7004e-04\n",
      "Epoch 91/100\n",
      "42/42 [==============================] - 3s 71ms/step - loss: 0.0014 - val_loss: 7.5755e-04\n",
      "Epoch 92/100\n",
      "42/42 [==============================] - 3s 70ms/step - loss: 0.0014 - val_loss: 0.0019\n",
      "Epoch 93/100\n",
      "42/42 [==============================] - 3s 71ms/step - loss: 0.0013 - val_loss: 0.0022\n",
      "Epoch 94/100\n",
      "42/42 [==============================] - 3s 72ms/step - loss: 0.0013 - val_loss: 6.9053e-04\n",
      "Epoch 95/100\n",
      "42/42 [==============================] - 3s 71ms/step - loss: 0.0012 - val_loss: 0.0013\n",
      "Epoch 96/100\n",
      "42/42 [==============================] - 3s 71ms/step - loss: 0.0015 - val_loss: 7.9610e-04\n",
      "Epoch 97/100\n",
      "42/42 [==============================] - 3s 70ms/step - loss: 0.0011 - val_loss: 6.4901e-04\n",
      "Epoch 98/100\n",
      "42/42 [==============================] - 3s 72ms/step - loss: 0.0013 - val_loss: 7.2904e-04\n",
      "Epoch 99/100\n",
      "42/42 [==============================] - 3s 71ms/step - loss: 0.0016 - val_loss: 0.0011\n",
      "Epoch 100/100\n",
      "42/42 [==============================] - 3s 72ms/step - loss: 0.0014 - val_loss: 7.3423e-04\n"
     ]
    },
    {
     "data": {
      "text/plain": [
       "<keras.src.callbacks.History at 0x1c0f20308d0>"
      ]
     },
     "execution_count": 49,
     "metadata": {},
     "output_type": "execute_result"
    }
   ],
   "source": [
    "model.fit(x_train,y_train,epochs=100,batch_size=30,validation_split=0.05)"
   ]
  },
  {
   "cell_type": "markdown",
   "id": "775a544e",
   "metadata": {},
   "source": [
    "### Prepare test dataset"
   ]
  },
  {
   "cell_type": "code",
   "execution_count": 50,
   "id": "ef0e2453",
   "metadata": {},
   "outputs": [],
   "source": [
    "data = pd.concat((train_df['Open'],test_df['Open']),axis=0)"
   ]
  },
  {
   "cell_type": "code",
   "execution_count": 51,
   "id": "8b2fb543-371b-424a-8d3e-3a840394b1ad",
   "metadata": {},
   "outputs": [
    {
     "data": {
      "text/plain": [
       "0     357.385559\n",
       "1     360.122742\n",
       "2     362.313507\n",
       "3     365.348755\n",
       "4     365.393463\n",
       "         ...    \n",
       "15    829.620000\n",
       "16    837.810000\n",
       "17    834.710000\n",
       "18    814.660000\n",
       "19    796.860000\n",
       "Name: Open, Length: 1404, dtype: float64"
      ]
     },
     "execution_count": 51,
     "metadata": {},
     "output_type": "execute_result"
    }
   ],
   "source": [
    "data"
   ]
  },
  {
   "cell_type": "code",
   "execution_count": 52,
   "id": "923dbaa2",
   "metadata": {},
   "outputs": [
    {
     "data": {
      "text/plain": [
       "(80,)"
      ]
     },
     "execution_count": 52,
     "metadata": {},
     "output_type": "execute_result"
    }
   ],
   "source": [
    "test_input = data.iloc[len(data) - len(test_df) - time : ].values\n",
    "test_input.shape"
   ]
  },
  {
   "cell_type": "code",
   "execution_count": 53,
   "id": "ea2135e1-97da-4a78-99ed-35132b2c7bea",
   "metadata": {},
   "outputs": [
    {
     "data": {
      "text/plain": [
       "array([1020.      , 1016.799988, 1026.439941, 1027.98999 , 1025.040039,\n",
       "       1040.880005, 1037.      , 1051.369995, 1077.430054, 1069.400024,\n",
       "       1082.      , 1077.859985, 1052.      , 1025.52002 , 1029.51001 ,\n",
       "       1046.      , 1030.01001 , 1013.659973, 1028.099976, 1019.      ,\n",
       "       1016.900024, 1049.22998 , 1058.540039, 1058.099976, 1086.030029,\n",
       "       1093.599976, 1100.      , 1090.      , 1077.310059, 1079.890015,\n",
       "       1061.859985, 1074.060059, 1083.560059, 1065.130005, 1079.      ,\n",
       "       1079.02002 , 1064.890015, 1063.030029, 1067.560059, 1099.349976,\n",
       "       1122.329956, 1140.98999 , 1142.170044, 1131.319946, 1118.180054,\n",
       "       1118.599976, 1131.069946, 1141.119995, 1143.849976, 1148.859985,\n",
       "       1143.650024, 1158.5     , 1175.310059, 1174.849976, 1159.140015,\n",
       "       1143.599976, 1128.      , 1121.339966, 1102.089966, 1120.      ,\n",
       "        778.81    ,  788.36    ,  786.08    ,  795.26    ,  806.4     ,\n",
       "        807.86    ,  805.      ,  807.14    ,  807.48    ,  807.08    ,\n",
       "        805.81    ,  805.12    ,  806.91    ,  807.25    ,  822.3     ,\n",
       "        829.62    ,  837.81    ,  834.71    ,  814.66    ,  796.86    ])"
      ]
     },
     "execution_count": 53,
     "metadata": {},
     "output_type": "execute_result"
    }
   ],
   "source": [
    "test_input"
   ]
  },
  {
   "cell_type": "code",
   "execution_count": 54,
   "id": "b9135535",
   "metadata": {},
   "outputs": [
    {
     "data": {
      "text/plain": [
       "(80, 1)"
      ]
     },
     "execution_count": 54,
     "metadata": {},
     "output_type": "execute_result"
    }
   ],
   "source": [
    "test_input = test_input.reshape(-1,1)\n",
    "test_input.shape"
   ]
  },
  {
   "cell_type": "code",
   "execution_count": 55,
   "id": "e2cae5d2",
   "metadata": {},
   "outputs": [],
   "source": [
    "test_scaled = scaler.transform(test_input)"
   ]
  },
  {
   "cell_type": "markdown",
   "id": "ff2d1fce",
   "metadata": {},
   "source": [
    "#### Create test data set"
   ]
  },
  {
   "cell_type": "code",
   "execution_count": 56,
   "id": "3b42f414",
   "metadata": {},
   "outputs": [
    {
     "data": {
      "text/plain": [
       "(20, 60)"
      ]
     },
     "execution_count": 56,
     "metadata": {},
     "output_type": "execute_result"
    }
   ],
   "source": [
    "x_test = []\n",
    "for i in range(time,test_scaled.shape[0]):\n",
    "    x_test.append(test_scaled[i - time: i,0 ])\n",
    "x_test = np.array(x_test)\n",
    "x_test.shape"
   ]
  },
  {
   "cell_type": "code",
   "execution_count": 57,
   "id": "9b65f6cb",
   "metadata": {},
   "outputs": [
    {
     "data": {
      "text/plain": [
       "(20, 60, 1)"
      ]
     },
     "execution_count": 57,
     "metadata": {},
     "output_type": "execute_result"
    }
   ],
   "source": [
    "x_test = np.reshape(x_test,newshape=(x_test.shape[0],x_test.shape[1],1))\n",
    "x_test.shape"
   ]
  },
  {
   "cell_type": "code",
   "execution_count": 58,
   "id": "0008a724",
   "metadata": {},
   "outputs": [],
   "source": [
    "y_test = test_df.loc[:,\"Open\"].values"
   ]
  },
  {
   "cell_type": "markdown",
   "id": "dd4e409b",
   "metadata": {},
   "source": [
    "### Model Prediction"
   ]
  },
  {
   "cell_type": "code",
   "execution_count": 59,
   "id": "99d79639",
   "metadata": {},
   "outputs": [
    {
     "name": "stdout",
     "output_type": "stream",
     "text": [
      "1/1 [==============================] - 1s 774ms/step\n"
     ]
    }
   ],
   "source": [
    "y_pred = model.predict(x_test)"
   ]
  },
  {
   "cell_type": "code",
   "execution_count": 60,
   "id": "62f8ac3b",
   "metadata": {},
   "outputs": [],
   "source": [
    "y_pred = scaler.inverse_transform(y_pred)"
   ]
  },
  {
   "cell_type": "code",
   "execution_count": 61,
   "id": "58bf448d",
   "metadata": {},
   "outputs": [
    {
     "name": "stdout",
     "output_type": "stream",
     "text": [
      "1/1 [==============================] - 0s 52ms/step - loss: 651317.1250\n"
     ]
    }
   ],
   "source": [
    "output = model.evaluate(x=x_test,y=y_test)"
   ]
  },
  {
   "cell_type": "code",
   "execution_count": 62,
   "id": "7f71b3da",
   "metadata": {},
   "outputs": [
    {
     "data": {
      "image/png": "[encoded data removed]",
      "text/plain": [
       "<Figure size 640x480 with 1 Axes>"
      ]
     },
     "metadata": {},
     "output_type": "display_data"
    }
   ],
   "source": [
    "plt.plot(y_test, color = 'red', label = 'Real price')\n",
    "plt.plot(y_pred, color = 'blue', label = 'Predicted price')\n",
    "\n",
    "plt.title('Google Stock price prediction')\n",
    "plt.xlabel('Time')\n",
    "plt.ylabel('Price')\n",
    "plt.legend()\n",
    "plt.show()"
   ]
  },
  {
   "cell_type": "code",
   "execution_count": null,
   "id": "3d7a0bb8-596c-42d0-bf1d-0d7bbf6eb836",
   "metadata": {},
   "outputs": [],
   "source": []
  }
 ],
 "metadata": {
  "kernelspec": {
   "display_name": "Python 3 (ipykernel)",
   "language": "python",
   "name": "python3"
  },
  "language_info": {
   "codemirror_mode": {
    "name": "ipython",
    "version": 3
   },
   "file_extension": ".py",
   "mimetype": "text/x-python",
   "name": "python",
   "nbconvert_exporter": "python",
   "pygments_lexer": "ipython3",
   "version": "3.11.6"
  }
 },
 "nbformat": 4,
 "nbformat_minor": 5
}
